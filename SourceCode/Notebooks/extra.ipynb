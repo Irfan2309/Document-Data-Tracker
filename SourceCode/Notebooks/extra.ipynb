{
 "cells": [
  {
   "cell_type": "code",
   "execution_count": null,
   "metadata": {},
   "outputs": [],
   "source": [
    "import json\n",
    "import numpy as np\n",
    "import pandas as pd\n",
    "import matplotlib.pyplot as plt\n",
    "from collections import Counter\n",
    "import datetime"
   ]
  },
  {
   "cell_type": "code",
   "execution_count": null,
   "metadata": {},
   "outputs": [],
   "source": [
    "# Import the data from the json file\n",
    "# Data is in format {},{},{},... and in a text file\n",
    "\n",
    "# Read the data from the file\n",
    "with open('../../Dataset/build_dataset.txt') as f:\n",
    "    data = f.readlines()\n",
    "\n",
    "# Convert the data to a list of dictionaries\n",
    "data = [json.loads(x.strip()) for x in data]"
   ]
  },
  {
   "cell_type": "code",
   "execution_count": null,
   "metadata": {},
   "outputs": [],
   "source": [
    "def get_unique_visitors(data):\n",
    "    unique_visitors = set()\n",
    "    for record in data:\n",
    "        if 'visitor_uuid' in record:\n",
    "            unique_visitors.add(record['visitor_uuid'])\n",
    "    return unique_visitors\n",
    "\n",
    "def get_unique_documents(data):\n",
    "    unique_documents = set()\n",
    "    for record in data:\n",
    "        if 'env_doc_id' in record:\n",
    "            unique_documents.add(record['env_doc_id'])\n",
    "    return unique_documents\n",
    "\n",
    "\n",
    "\n",
    "distinct_user_count = len(get_unique_visitors(data))\n",
    "distinct_doc_count = len(get_unique_documents(data))\n",
    "\n",
    "print(f\"Count of distinct users: {distinct_user_count}\")\n",
    "print(f\"Count of distinct documents: {distinct_doc_count}\")"
   ]
  },
  {
   "cell_type": "code",
   "execution_count": null,
   "metadata": {},
   "outputs": [],
   "source": [
    "def most_popular_documents(data):\n",
    "    from collections import Counter\n",
    "\n",
    "    doc_impressions = Counter(record['env_doc_id'] for record in data if 'env_doc_id' in record)\n",
    "    return doc_impressions.most_common()\n"
   ]
  },
  {
   "cell_type": "code",
   "execution_count": null,
   "metadata": {},
   "outputs": [],
   "source": [
    "def average_reading_time_per_document(data):\n",
    "    total_time = {}\n",
    "    counts = {}\n",
    "\n",
    "    for record in data:\n",
    "        if 'event_readtime' in record and 'env_doc_id' in record:\n",
    "            doc_id = record['env_doc_id']\n",
    "            read_time = record['event_readtime']\n",
    "\n",
    "            total_time[doc_id] = total_time.get(doc_id, 0) + read_time\n",
    "            counts[doc_id] = counts.get(doc_id, 0) + 1\n",
    "\n",
    "    average_time = {doc: total_time[doc] / counts[doc] for doc in total_time}\n",
    "    return average_time"
   ]
  },
  {
   "cell_type": "code",
   "execution_count": null,
   "metadata": {},
   "outputs": [],
   "source": [
    "def reader_engagement_analysis(data):\n",
    "    engagement_data = [record for record in data if 'event_readtime' in record]\n",
    "    df = pd.DataFrame(engagement_data)\n",
    "    avg_read_time = df.groupby('env_doc_id')['event_readtime'].mean()\n",
    "    return avg_read_time.sort_values(ascending=False)"
   ]
  },
  {
   "cell_type": "code",
   "execution_count": null,
   "metadata": {},
   "outputs": [],
   "source": [
    "def peak_access_times(data):\n",
    "    times = [datetime.datetime.fromtimestamp(record['ts']).hour for record in data]\n",
    "    peak_times = Counter(times)\n",
    "    return peak_times.most_common()"
   ]
  },
  {
   "cell_type": "code",
   "execution_count": null,
   "metadata": {},
   "outputs": [],
   "source": [
    "# Analyze the number of pages per document accessed by users.\n",
    "def document_page_count_analysis(data):\n",
    "    from collections import defaultdict\n",
    "\n",
    "    page_count_per_doc = defaultdict(set)\n",
    "\n",
    "    for record in data:\n",
    "        if 'subject_page' in record and 'env_doc_id' in record:\n",
    "            doc_id = record['env_doc_id']\n",
    "            page_count_per_doc[doc_id].add(record['subject_page'])\n",
    "\n",
    "    page_count = {doc: len(pages) for doc, pages in page_count_per_doc.items()}\n",
    "    return page_count"
   ]
  }
 ],
 "metadata": {
  "kernelspec": {
   "display_name": "Python 3",
   "language": "python",
   "name": "python3"
  },
  "language_info": {
   "name": "python",
   "version": "3.9.7"
  }
 },
 "nbformat": 4,
 "nbformat_minor": 2
}
