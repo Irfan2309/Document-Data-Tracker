{
 "cells": [
  {
   "cell_type": "code",
   "execution_count": 1,
   "metadata": {},
   "outputs": [],
   "source": [
    "import json\n",
    "import numpy as np\n",
    "import pandas as pd\n",
    "import matplotlib.pyplot as plt"
   ]
  },
  {
   "cell_type": "code",
   "execution_count": 2,
   "metadata": {},
   "outputs": [],
   "source": [
    "# Import the data from the json file\n",
    "# Data is in format {},{},{},... and in a text file\n",
    "\n",
    "# Read the data from the file\n",
    "with open('../../Dataset/build_dataset.txt') as f:\n",
    "    data = f.readlines()\n",
    "\n",
    "# Convert the data to a list of dictionaries\n",
    "data = [json.loads(x.strip()) for x in data]\n"
   ]
  },
  {
   "cell_type": "code",
   "execution_count": 3,
   "metadata": {},
   "outputs": [],
   "source": [
    "# for entry in data[:10]:\n",
    "    # print(entry[\"visitor_useragent\"])"
   ]
  },
  {
   "cell_type": "code",
   "execution_count": 4,
   "metadata": {},
   "outputs": [
    {
     "data": {
      "image/png": "[encoded data removed]",
      "text/plain": [
       "<Figure size 720x432 with 1 Axes>"
      ]
     },
     "metadata": {
      "needs_background": "light"
     },
     "output_type": "display_data"
    },
    {
     "data": {
      "image/png": "[encoded data removed]",
      "text/plain": [
       "<Figure size 720x432 with 1 Axes>"
      ]
     },
     "metadata": {
      "needs_background": "light"
     },
     "output_type": "display_data"
    }
   ],
   "source": [
    "import matplotlib.pyplot as plt\n",
    "from collections import Counter\n",
    "import pycountry_convert as pc\n",
    "\n",
    "# Function to create a histogram\n",
    "def create_histogram(data, title, xlabel, ylabel='Number of Views', color='darkblue'):\n",
    "    # Create a figure\n",
    "    plt.figure(figsize=(10, 6))\n",
    "    # Create a bar plot\n",
    "    plt.bar(data.keys(), data.values(), color=color)\n",
    "    # Add a title and axis labels\n",
    "    plt.title(title)\n",
    "    # Print x label\n",
    "    plt.xlabel(xlabel)\n",
    "    # Print y label\n",
    "    plt.ylabel(ylabel)\n",
    "    # Show the plot\n",
    "    plt.show()\n",
    "\n",
    "# Function to plot countries for each document\n",
    "def plot_countries(doc_id):\n",
    "    # Filter views for the specific document and check if 'env_doc_id' exists in the record\n",
    "    filtered_data = [entry['visitor_country'] for entry in data if 'env_doc_id' in entry and entry['env_doc_id'] == doc_id]\n",
    "    # Count occurrences of each country code\n",
    "    country_count = Counter(filtered_data)\n",
    "    # Create a histogram for country codes\n",
    "    create_histogram(country_count, 'Histogram of Country Codes', 'Country Code')\n",
    "\n",
    "# This function will use the pycountry_convert library to map country codes to continent names\n",
    "def map_country_to_continent(country_code):\n",
    "    try:\n",
    "        continent_code = pc.country_alpha2_to_continent_code(country_code)\n",
    "        continent_name = pc.convert_continent_code_to_continent_name(continent_code)\n",
    "        return continent_name\n",
    "    except:\n",
    "        # If the country code is not found, return 'Unknown'\n",
    "        return 'Unknown'\n",
    "\n",
    "def plot_continents(doc_id):\n",
    "    # Filter views for the specific document and check if 'env_doc_id' exists in the record\n",
    "    filtered_data = [entry['visitor_country'] for entry in data if 'env_doc_id' in entry and entry['env_doc_id'] == doc_id]\n",
    "    # Map country codes to continents\n",
    "    continent_data = [map_country_to_continent(country_code) for country_code in filtered_data]\n",
    "    # Count occurrences of each continent\n",
    "    continent_count = Counter(continent_data)\n",
    "    # Create a histogram for continents\n",
    "    create_histogram(continent_count, 'Histogram of Continents', 'Continent', color='darkgreen')\n",
    "\n",
    "# Example usage\n",
    "doc_id = '131224090853-45a33eba6ddf71f348aef7557a86ca5f'\n",
    "plot_countries(doc_id)\n",
    "plot_continents(doc_id)\n"
   ]
  },
  {
   "cell_type": "code",
   "execution_count": null,
   "metadata": {},
   "outputs": [],
   "source": []
  },
  {
   "cell_type": "code",
   "execution_count": null,
   "metadata": {},
   "outputs": [],
   "source": []
  },
  {
   "cell_type": "code",
   "execution_count": null,
   "metadata": {},
   "outputs": [],
   "source": []
  },
  {
   "cell_type": "code",
   "execution_count": null,
   "metadata": {},
   "outputs": [],
   "source": []
  }
 ],
 "metadata": {
  "kernelspec": {
   "display_name": "Python 3",
   "language": "python",
   "name": "python3"
  },
  "language_info": {
   "codemirror_mode": {
    "name": "ipython",
    "version": 3
   },
   "file_extension": ".py",
   "mimetype": "text/x-python",
   "name": "python",
   "nbconvert_exporter": "python",
   "pygments_lexer": "ipython3",
   "version": "3.9.7"
  }
 },
 "nbformat": 4,
 "nbformat_minor": 2
}
