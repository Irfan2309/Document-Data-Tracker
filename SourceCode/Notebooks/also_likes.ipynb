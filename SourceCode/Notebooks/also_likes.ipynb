{
 "cells": [
  {
   "cell_type": "code",
   "execution_count": 89,
   "metadata": {},
   "outputs": [],
   "source": [
    "import json\n",
    "import numpy as np\n",
    "import pandas as pd\n",
    "import matplotlib.pyplot as plt\n",
    "from collections import Counter\n",
    "import datetime"
   ]
  },
  {
   "cell_type": "code",
   "execution_count": 90,
   "metadata": {},
   "outputs": [],
   "source": [
    "# Import the data from the json file\n",
    "# Data is in format {},{},{},... and in a text file\n",
    "\n",
    "# Read the data from the file\n",
    "with open('../../Dataset/build_dataset.txt') as f:\n",
    "    data = f.readlines()\n",
    "\n",
    "# Convert the data to a list of dictionaries\n",
    "data = [json.loads(x.strip()) for x in data]"
   ]
  },
  {
   "cell_type": "code",
   "execution_count": 91,
   "metadata": {},
   "outputs": [],
   "source": [
    "def get_readers_by_document(data, doc_uuid):\n",
    "    all_readers = []\n",
    "    for record in data:\n",
    "        if 'subject_doc_id' in record and  record['subject_doc_id'] == doc_uuid and 'visitor_uuid' in record:\n",
    "            all_readers.append(record['visitor_uuid'])\n",
    "    return all_readers\n"
   ]
  },
  {
   "cell_type": "code",
   "execution_count": 92,
   "metadata": {},
   "outputs": [],
   "source": [
    "def get_document_by_readers(data, visitor_uuid):\n",
    "    all_docs = []\n",
    "    for record in data:\n",
    "        if 'visitor_uuid' in record and record['visitor_uuid'] == visitor_uuid and 'subject_doc_id' in record:\n",
    "            \n",
    "                all_docs.append(record['subject_doc_id'])\n",
    "    return all_docs\n"
   ]
  },
  {
   "cell_type": "code",
   "execution_count": 93,
   "metadata": {},
   "outputs": [],
   "source": [
    "def also_likes(data, doc_uuid, sorting_function=None):\n",
    "\n",
    "    if sorting_function is None:\n",
    "        sorting_function = lambda x: x[1]\n",
    "\n",
    "    all_readers = get_readers_by_document(data, doc_uuid)\n",
    "    unique_readers = set(all_readers)\n",
    "\n",
    "    liked_documents = {}\n",
    "\n",
    "    for reader in unique_readers:\n",
    "            docs = get_document_by_readers(data, reader)\n",
    "            unique_docs = set(docs)\n",
    "            for doc in unique_docs:\n",
    "                if doc != doc_uuid:\n",
    "                    liked_documents[doc] = liked_documents.get(doc, 0) + 1\n",
    "\n",
    "    sorted_docs = sorted(liked_documents.items(), key=sorting_function, reverse=True)\n",
    "    return [doc[0] for doc in sorted_docs]"
   ]
  },
  {
   "cell_type": "code",
   "execution_count": 94,
   "metadata": {},
   "outputs": [],
   "source": [
    "def sort_by_readers(item):\n",
    "    return item[1]"
   ]
  },
  {
   "cell_type": "code",
   "execution_count": 95,
   "metadata": {},
   "outputs": [],
   "source": [
    "doc_uuid = \"100713205147-2ee05a98f1794324952eea5ca678c026\"  \n",
    "\n",
    "# Get the top 10 'also likes' documents\n",
    "top_liked_docs = also_likes(data, doc_uuid, sort_by_readers)\n",
    "for doc in top_liked_docs[:10]:\n",
    "    print(doc)"
   ]
  }
 ],
 "metadata": {
  "kernelspec": {
   "display_name": "Python 3",
   "language": "python",
   "name": "python3"
  },
  "language_info": {
   "codemirror_mode": {
    "name": "ipython",
    "version": 3
   },
   "file_extension": ".py",
   "mimetype": "text/x-python",
   "name": "python",
   "nbconvert_exporter": "python",
   "pygments_lexer": "ipython3",
   "version": "3.9.7"
  }
 },
 "nbformat": 4,
 "nbformat_minor": 2
}
