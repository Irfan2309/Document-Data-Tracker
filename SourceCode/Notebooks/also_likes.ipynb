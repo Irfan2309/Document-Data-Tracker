{
 "cells": [
  {
   "cell_type": "code",
   "execution_count": 14,
   "metadata": {},
   "outputs": [],
   "source": [
    "import json\n",
    "import numpy as np\n",
    "import pandas as pd\n",
    "import matplotlib.pyplot as plt\n",
    "from collections import Counter\n",
    "import datetime"
   ]
  },
  {
   "cell_type": "code",
   "execution_count": 15,
   "metadata": {},
   "outputs": [],
   "source": [
    "# Import the data from the json file\n",
    "# Data is in format {},{},{},... and in a text file\n",
    "\n",
    "# Read the data from the file\n",
    "with open('../../Dataset/build_dataset.txt') as f:\n",
    "    data = f.readlines()\n",
    "\n",
    "# Convert the data to a list of dictionaries\n",
    "data = [json.loads(x.strip()) for x in data]"
   ]
  },
  {
   "cell_type": "code",
   "execution_count": 16,
   "metadata": {},
   "outputs": [],
   "source": [
    "def get_readers_by_document(data, doc_uuid):\n",
    "    all_readers = []\n",
    "    for record in data:\n",
    "        if 'subject_doc_id' in record and  record['subject_doc_id'] == doc_uuid:\n",
    "            all_readers.append(record['visitor_uuid'])\n",
    "    return all_readers\n"
   ]
  },
  {
   "cell_type": "code",
   "execution_count": 23,
   "metadata": {},
   "outputs": [],
   "source": [
    "def get_document_by_readers(data, visitor_uuid):\n",
    "    all_docs = []\n",
    "    for record in data:\n",
    "        if 'visitor_uuid' in record and record['visitor_uuid'] == visitor_uuid and 'subject_doc_id' in record:\n",
    "            all_docs.append(record['subject_doc_id'])\n",
    "    return all_docs\n"
   ]
  },
  {
   "cell_type": "code",
   "execution_count": 39,
   "metadata": {},
   "outputs": [],
   "source": [
    "def also_likes(data, doc_uuid, sorting_function=None):\n",
    "\n",
    "    if sorting_function is None:\n",
    "        sorting_function = lambda x: x[1]\n",
    "\n",
    "    all_readers = get_readers_by_document(data, doc_uuid)\n",
    "    unique_readers = set(all_readers)\n",
    "\n",
    "    liked_documents = {}\n",
    "\n",
    "    for reader in unique_readers:\n",
    "            docs = get_document_by_readers(data, reader)\n",
    "            unique_docs = set(docs)\n",
    "\n",
    "            for doc in unique_docs:\n",
    "                if doc != doc_uuid:\n",
    "                    liked_documents[doc] = liked_documents.get(doc, 0) + 1\n",
    "\n",
    "    sorted_docs = sorted(liked_documents.items(), key=sorting_function, reverse=True)\n",
    "    return [doc[0] for doc in sorted_docs[:10]]"
   ]
  },
  {
   "cell_type": "code",
   "execution_count": 40,
   "metadata": {},
   "outputs": [],
   "source": [
    "def sort_by_readers(item):\n",
    "    return item[1]"
   ]
  },
  {
   "cell_type": "code",
   "execution_count": 41,
   "metadata": {},
   "outputs": [
    {
     "name": "stdout",
     "output_type": "stream",
     "text": [
      "['140218233015-c848da298ed6d38b98e18a85731a83f4', '131202094202-a4ae3185bc84368f14bff266d276eb4b', '131218101426-7fe24377c762b8fe53d21b65fcfa9b25', '131121160738-0db9af9dbc996be9fce9d81638868dde', '130902223509-8fed6b88ae0937c1c43fb30cb9f87ad8', '140227101855-42de650464f91d12c6a5644f999c6287', '140128221921-4c304a111b9e0a3425f419563ad6e29a', '140228142350-9f269f7cc77eed6045f5930e276d280d', '140227005600-2a71e9e5c5780a23f540112bd0038467', '131026155107-acf6375f44f1648870c9a12396618a62']\n"
     ]
    }
   ],
   "source": [
    "doc_uuid = \"100713205147-2ee05a98f1794324952eea5ca678c026\"  # Replace with actual document UUID\n",
    "visitor_uuid = \"8fd99d4cbfb9b8d8\"  # Replace with actual visitor UUID\n",
    "\n",
    "# Get the top 10 'also likes' documents\n",
    "top_liked_docs = also_likes(data, doc_uuid, sort_by_readers)\n",
    "print(top_liked_docs)"
   ]
  },
  {
   "cell_type": "code",
   "execution_count": 44,
   "metadata": {},
   "outputs": [
    {
     "name": "stdout",
     "output_type": "stream",
     "text": [
      "// Also Likes Graph\n",
      "digraph {\n",
      "\tc026 [label=c026 fillcolor=green style=filled]\n",
      "\tb8d8 [label=b8d8 fillcolor=green style=filled]\n",
      "\t\"83f4\" [label=\"83f4\"]\n",
      "\t\"05a1\" [label=\"05a1\"]\n",
      "\t\"05a1\" -> \"83f4\"\n",
      "\tc199 [label=c199]\n",
      "\tc199 -> \"83f4\"\n",
      "\t\"3d35\" [label=\"3d35\"]\n",
      "\t\"3d35\" -> \"83f4\"\n",
      "\tf2da [label=f2da]\n",
      "\tf2da -> \"83f4\"\n",
      "\teb4b [label=eb4b]\n",
      "\t\"05a1\" [label=\"05a1\"]\n",
      "\t\"05a1\" -> eb4b\n",
      "\tc199 [label=c199]\n",
      "\tc199 -> eb4b\n",
      "\ta4c5 [label=a4c5]\n",
      "\ta4c5 -> eb4b\n",
      "\t\"08a5\" [label=\"08a5\"]\n",
      "\t\"08a5\" -> eb4b\n",
      "\tf2da [label=f2da]\n",
      "\tf2da -> eb4b\n",
      "\t\"3d35\" [label=\"3d35\"]\n",
      "\t\"3d35\" -> eb4b\n",
      "\t\"9b25\" [label=\"9b25\"]\n",
      "\t\"05a1\" [label=\"05a1\"]\n",
      "\t\"05a1\" -> \"9b25\"\n",
      "\tc199 [label=c199]\n",
      "\tc199 -> \"9b25\"\n",
      "\ta4c5 [label=a4c5]\n",
      "\ta4c5 -> \"9b25\"\n",
      "\tf2da [label=f2da]\n",
      "\tf2da -> \"9b25\"\n",
      "\t\"8dde\" [label=\"8dde\"]\n",
      "\t\"3d35\" [label=\"3d35\"]\n",
      "\t\"3d35\" -> \"8dde\"\n",
      "\t\"7ad8\" [label=\"7ad8\"]\n",
      "\t\"3d35\" [label=\"3d35\"]\n",
      "\t\"3d35\" -> \"7ad8\"\n",
      "\t3822 [label=3822]\n",
      "\t3822 -> \"7ad8\"\n",
      "\t3822 [label=3822]\n",
      "\t3822 -> \"7ad8\"\n",
      "\t\"3d35\" [label=\"3d35\"]\n",
      "\t\"3d35\" -> \"7ad8\"\n",
      "\t\"3d35\" [label=\"3d35\"]\n",
      "\t\"3d35\" -> \"7ad8\"\n",
      "\t\"3d35\" [label=\"3d35\"]\n",
      "\t\"3d35\" -> \"7ad8\"\n",
      "\t\"3d35\" [label=\"3d35\"]\n",
      "\t\"3d35\" -> \"7ad8\"\n",
      "\t\"3d35\" [label=\"3d35\"]\n",
      "\t\"3d35\" -> \"7ad8\"\n",
      "\t3822 [label=3822]\n",
      "\t3822 -> \"7ad8\"\n",
      "\t\"3d35\" [label=\"3d35\"]\n",
      "\t\"3d35\" -> \"7ad8\"\n",
      "\t6287 [label=6287]\n",
      "\t\"3d35\" [label=\"3d35\"]\n",
      "\t\"3d35\" -> 6287\n",
      "\te29a [label=e29a]\n",
      "\t\"3d35\" [label=\"3d35\"]\n",
      "\t\"3d35\" -> e29a\n",
      "\t\"280d\" [label=\"280d\"]\n",
      "\t\"3d35\" [label=\"3d35\"]\n",
      "\t\"3d35\" -> \"280d\"\n",
      "\t8467 [label=8467]\n",
      "\t\"3d35\" [label=\"3d35\"]\n",
      "\t\"3d35\" -> 8467\n",
      "\t\"8a62\" [label=\"8a62\"]\n",
      "\t\"3d35\" [label=\"3d35\"]\n",
      "\t\"3d35\" -> \"8a62\"\n",
      "}\n",
      "\n"
     ]
    }
   ],
   "source": [
    "from graphviz import Digraph\n",
    "\n",
    "# Assuming the also_likes function and other necessary functions are defined\n",
    "# Here's an implementation of the graph generation:\n",
    "\n",
    "def generate_graph(data, doc_uuid):\n",
    "    # Create a Digraph object\n",
    "    dot = Digraph(comment='Also Likes Graph')\n",
    "\n",
    "    # Highlight the input document and visitor\n",
    "    dot.node(doc_uuid[-4:], doc_uuid[-4:], style='filled', fillcolor='green')\n",
    "    if visitor_uuid:\n",
    "        dot.node(visitor_uuid[-4:], visitor_uuid[-4:], style='filled', fillcolor='green')\n",
    "\n",
    "    # Get the list of \"also likes\" documents using the also_likes function\n",
    "    also_likes_docs = also_likes(data, doc_uuid)\n",
    "    print\n",
    "    # For each \"also likes\" document, get the readers and create edges\n",
    "    for also_likes_doc in also_likes_docs:\n",
    "        dot.node(also_likes_doc[-4:], also_likes_doc[-4:])\n",
    "        readers = get_readers_by_document(data, also_likes_doc)\n",
    "        for reader in readers:\n",
    "            reader_id = reader[-4:]\n",
    "            # Add the reader node\n",
    "            dot.node(reader_id, reader_id)\n",
    "            # Add an edge from reader to the document\n",
    "            dot.edge(reader_id, also_likes_doc[-4:])\n",
    "\n",
    "    # Generate and save the graph\n",
    "    print(dot.source)  # Optionally print the dot script\n",
    "    dot.render('also_likes_graph', format='png', cleanup=True)  # Save the graph as a PNG file\n",
    "\n",
    "\n",
    "# Call the function with the specific document UUID and visitor UUID\n",
    "generate_graph(data, \"100713205147-2ee05a98f1794324952eea5ca678c026\")\n"
   ]
  },
  {
   "cell_type": "code",
   "execution_count": null,
   "metadata": {},
   "outputs": [],
   "source": []
  },
  {
   "cell_type": "code",
   "execution_count": null,
   "metadata": {},
   "outputs": [],
   "source": []
  }
 ],
 "metadata": {
  "kernelspec": {
   "display_name": "Python 3",
   "language": "python",
   "name": "python3"
  },
  "language_info": {
   "codemirror_mode": {
    "name": "ipython",
    "version": 3
   },
   "file_extension": ".py",
   "mimetype": "text/x-python",
   "name": "python",
   "nbconvert_exporter": "python",
   "pygments_lexer": "ipython3",
   "version": "3.11.5"
  }
 },
 "nbformat": 4,
 "nbformat_minor": 2
}
