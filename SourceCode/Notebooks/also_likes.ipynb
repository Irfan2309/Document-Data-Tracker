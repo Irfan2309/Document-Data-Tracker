{
 "cells": [
  {
   "cell_type": "code",
   "execution_count": 1,
   "metadata": {},
   "outputs": [],
   "source": [
    "import json\n",
    "import numpy as np\n",
    "import pandas as pd\n",
    "import matplotlib.pyplot as plt\n",
    "from collections import Counter\n",
    "import datetime"
   ]
  },
  {
   "cell_type": "code",
   "execution_count": 2,
   "metadata": {},
   "outputs": [],
   "source": [
    "# Import the data from the json file\n",
    "# Data is in format {},{},{},... and in a text file\n",
    "\n",
    "# Read the data from the file\n",
    "with open('../../Dataset/build_dataset.txt') as f:\n",
    "    data = f.readlines()\n",
    "\n",
    "# Convert the data to a list of dictionaries\n",
    "data = [json.loads(x.strip()) for x in data]"
   ]
  },
  {
   "cell_type": "code",
   "execution_count": 3,
   "metadata": {},
   "outputs": [],
   "source": [
    "def get_readers_by_document(data, doc_uuid):\n",
    "    all_readers = []\n",
    "    for record in data:\n",
    "        if 'subject_doc_id' in record and  record['subject_doc_id'] == doc_uuid:\n",
    "            all_readers.append(record['visitor_uuid'])\n",
    "    return all_readers\n"
   ]
  },
  {
   "cell_type": "code",
   "execution_count": 4,
   "metadata": {},
   "outputs": [],
   "source": [
    "def get_document_by_readers(data, visitor_uuid):\n",
    "    all_docs = []\n",
    "    for record in data:\n",
    "        if 'visitor_uuid' in record and record['visitor_uuid'] == visitor_uuid and 'subject_doc_id' in record:\n",
    "            all_docs.append(record['subject_doc_id'])\n",
    "    return all_docs\n"
   ]
  },
  {
   "cell_type": "code",
   "execution_count": 5,
   "metadata": {},
   "outputs": [],
   "source": [
    "def also_likes(data, doc_uuid, visitor_uuid = None, sorting_function=None):\n",
    "\n",
    "    if sorting_function is None:\n",
    "        sorting_function = lambda x: x[1]['count']\n",
    "\n",
    "    all_readers = set(get_readers_by_document(data, doc_uuid))\n",
    "\n",
    "    liked_documents = {}\n",
    "\n",
    "    for reader in all_readers:\n",
    "            \n",
    "            documents = set(get_document_by_readers(data, reader))\n",
    "            for doc in documents:\n",
    "                if doc not in liked_documents:\n",
    "                    liked_documents[doc] = {'count': 0, 'readers': set()}\n",
    "                liked_documents[doc]['count'] += 1\n",
    "                liked_documents[doc]['readers'].add(reader)\n",
    "\n",
    "    sorted_docs = sorted(liked_documents.items(), key=sorting_function, reverse=True)\n",
    "\n",
    "    return sorted_docs[:10]"
   ]
  },
  {
   "cell_type": "code",
   "execution_count": 6,
   "metadata": {},
   "outputs": [
    {
     "ename": "KeyboardInterrupt",
     "evalue": "",
     "output_type": "error",
     "traceback": [
      "\u001b[0;31m---------------------------------------------------------------------------\u001b[0m",
      "\u001b[0;31mKeyboardInterrupt\u001b[0m                         Traceback (most recent call last)",
      "\u001b[0;32m/var/folders/lh/6dgyfwc55fnbb2gc5ymttmcm0000gn/T/ipykernel_42907/2696116420.py\u001b[0m in \u001b[0;36m<module>\u001b[0;34m\u001b[0m\n\u001b[1;32m      3\u001b[0m \u001b[0;34m\u001b[0m\u001b[0m\n\u001b[1;32m      4\u001b[0m \u001b[0;31m# Get the top 10 'also likes' documents\u001b[0m\u001b[0;34m\u001b[0m\u001b[0;34m\u001b[0m\u001b[0m\n\u001b[0;32m----> 5\u001b[0;31m \u001b[0mtop_liked_docs\u001b[0m \u001b[0;34m=\u001b[0m \u001b[0malso_likes\u001b[0m\u001b[0;34m(\u001b[0m\u001b[0mdata\u001b[0m\u001b[0;34m,\u001b[0m \u001b[0mdoc_uuid\u001b[0m\u001b[0;34m)\u001b[0m\u001b[0;34m\u001b[0m\u001b[0;34m\u001b[0m\u001b[0m\n\u001b[0m\u001b[1;32m      6\u001b[0m \u001b[0;32mfor\u001b[0m \u001b[0mdoc\u001b[0m \u001b[0;32min\u001b[0m \u001b[0mtop_liked_docs\u001b[0m\u001b[0;34m:\u001b[0m\u001b[0;34m\u001b[0m\u001b[0;34m\u001b[0m\u001b[0m\n\u001b[1;32m      7\u001b[0m     \u001b[0mprint\u001b[0m\u001b[0;34m(\u001b[0m\u001b[0mdoc\u001b[0m\u001b[0;34m)\u001b[0m\u001b[0;34m\u001b[0m\u001b[0;34m\u001b[0m\u001b[0m\n",
      "\u001b[0;32m/var/folders/lh/6dgyfwc55fnbb2gc5ymttmcm0000gn/T/ipykernel_42907/1910447461.py\u001b[0m in \u001b[0;36malso_likes\u001b[0;34m(data, doc_uuid, visitor_uuid, sorting_function)\u001b[0m\n\u001b[1;32m      4\u001b[0m         \u001b[0msorting_function\u001b[0m \u001b[0;34m=\u001b[0m \u001b[0;32mlambda\u001b[0m \u001b[0mx\u001b[0m\u001b[0;34m:\u001b[0m \u001b[0mx\u001b[0m\u001b[0;34m[\u001b[0m\u001b[0;36m1\u001b[0m\u001b[0;34m]\u001b[0m\u001b[0;34m[\u001b[0m\u001b[0;34m'count'\u001b[0m\u001b[0;34m]\u001b[0m\u001b[0;34m\u001b[0m\u001b[0;34m\u001b[0m\u001b[0m\n\u001b[1;32m      5\u001b[0m \u001b[0;34m\u001b[0m\u001b[0m\n\u001b[0;32m----> 6\u001b[0;31m     \u001b[0mall_readers\u001b[0m \u001b[0;34m=\u001b[0m \u001b[0mset\u001b[0m\u001b[0;34m(\u001b[0m\u001b[0mget_readers_by_document\u001b[0m\u001b[0;34m(\u001b[0m\u001b[0mdata\u001b[0m\u001b[0;34m,\u001b[0m \u001b[0mdoc_uuid\u001b[0m\u001b[0;34m)\u001b[0m\u001b[0;34m)\u001b[0m\u001b[0;34m\u001b[0m\u001b[0;34m\u001b[0m\u001b[0m\n\u001b[0m\u001b[1;32m      7\u001b[0m \u001b[0;34m\u001b[0m\u001b[0m\n\u001b[1;32m      8\u001b[0m     \u001b[0mliked_documents\u001b[0m \u001b[0;34m=\u001b[0m \u001b[0;34m{\u001b[0m\u001b[0;34m}\u001b[0m\u001b[0;34m\u001b[0m\u001b[0;34m\u001b[0m\u001b[0m\n",
      "\u001b[0;32m/var/folders/lh/6dgyfwc55fnbb2gc5ymttmcm0000gn/T/ipykernel_42907/84252961.py\u001b[0m in \u001b[0;36mget_readers_by_document\u001b[0;34m(data, doc_uuid)\u001b[0m\n\u001b[1;32m      2\u001b[0m     \u001b[0mall_readers\u001b[0m \u001b[0;34m=\u001b[0m \u001b[0;34m[\u001b[0m\u001b[0;34m]\u001b[0m\u001b[0;34m\u001b[0m\u001b[0;34m\u001b[0m\u001b[0m\n\u001b[1;32m      3\u001b[0m     \u001b[0;32mfor\u001b[0m \u001b[0mrecord\u001b[0m \u001b[0;32min\u001b[0m \u001b[0mdata\u001b[0m\u001b[0;34m:\u001b[0m\u001b[0;34m\u001b[0m\u001b[0;34m\u001b[0m\u001b[0m\n\u001b[0;32m----> 4\u001b[0;31m         \u001b[0;32mif\u001b[0m \u001b[0;34m'subject_doc_id'\u001b[0m \u001b[0;32min\u001b[0m \u001b[0mrecord\u001b[0m \u001b[0;32mand\u001b[0m  \u001b[0mrecord\u001b[0m\u001b[0;34m[\u001b[0m\u001b[0;34m'subject_doc_id'\u001b[0m\u001b[0;34m]\u001b[0m \u001b[0;34m==\u001b[0m \u001b[0mdoc_uuid\u001b[0m\u001b[0;34m:\u001b[0m\u001b[0;34m\u001b[0m\u001b[0;34m\u001b[0m\u001b[0m\n\u001b[0m\u001b[1;32m      5\u001b[0m             \u001b[0mall_readers\u001b[0m\u001b[0;34m.\u001b[0m\u001b[0mappend\u001b[0m\u001b[0;34m(\u001b[0m\u001b[0mrecord\u001b[0m\u001b[0;34m[\u001b[0m\u001b[0;34m'visitor_uuid'\u001b[0m\u001b[0;34m]\u001b[0m\u001b[0;34m)\u001b[0m\u001b[0;34m\u001b[0m\u001b[0;34m\u001b[0m\u001b[0m\n\u001b[1;32m      6\u001b[0m     \u001b[0;32mreturn\u001b[0m \u001b[0mall_readers\u001b[0m\u001b[0;34m\u001b[0m\u001b[0;34m\u001b[0m\u001b[0m\n",
      "\u001b[0;31mKeyboardInterrupt\u001b[0m: "
     ]
    }
   ],
   "source": [
    "doc_uuid = \"100713205147-2ee05a98f1794324952eea5ca678c026\"  # Replace with actual document UUID\n",
    "visitor_uuid = \"8fd99d4cbfb9b8d8\"  # Replace with actual visitor UUID\n",
    "\n",
    "# Get the top 10 'also likes' documents\n",
    "top_liked_docs = also_likes(data, doc_uuid)\n",
    "for doc in top_liked_docs:\n",
    "    print(doc)\n"
   ]
  },
  {
   "cell_type": "code",
   "execution_count": 8,
   "metadata": {},
   "outputs": [
    {
     "ename": "KeyboardInterrupt",
     "evalue": "",
     "output_type": "error",
     "traceback": [
      "\u001b[0;31m---------------------------------------------------------------------------\u001b[0m",
      "\u001b[0;31mKeyboardInterrupt\u001b[0m                         Traceback (most recent call last)",
      "\u001b[0;32m/var/folders/lh/6dgyfwc55fnbb2gc5ymttmcm0000gn/T/ipykernel_42907/3955073091.py\u001b[0m in \u001b[0;36m<module>\u001b[0;34m\u001b[0m\n\u001b[1;32m     44\u001b[0m \u001b[0;34m\u001b[0m\u001b[0m\n\u001b[1;32m     45\u001b[0m \u001b[0;31m# Call the function with the specific document UUID and visitor UUID\u001b[0m\u001b[0;34m\u001b[0m\u001b[0;34m\u001b[0m\u001b[0m\n\u001b[0;32m---> 46\u001b[0;31m \u001b[0mgenerate_graph\u001b[0m\u001b[0;34m(\u001b[0m\u001b[0mdata\u001b[0m\u001b[0;34m,\u001b[0m \u001b[0;34m\"131218101426-7fe24377c762b8fe53d21b65fcfa9b25\"\u001b[0m\u001b[0;34m)\u001b[0m\u001b[0;34m\u001b[0m\u001b[0;34m\u001b[0m\u001b[0m\n\u001b[0m",
      "\u001b[0;32m/var/folders/lh/6dgyfwc55fnbb2gc5ymttmcm0000gn/T/ipykernel_42907/3955073091.py\u001b[0m in \u001b[0;36mgenerate_graph\u001b[0;34m(data, doc_uuid, visitor_uuid)\u001b[0m\n\u001b[1;32m     18\u001b[0m \u001b[0;34m\u001b[0m\u001b[0m\n\u001b[1;32m     19\u001b[0m     \u001b[0;31m# Get the list of \"also likes\" documents using the also_likes function\u001b[0m\u001b[0;34m\u001b[0m\u001b[0;34m\u001b[0m\u001b[0m\n\u001b[0;32m---> 20\u001b[0;31m     \u001b[0malso_likes_docs\u001b[0m \u001b[0;34m=\u001b[0m \u001b[0malso_likes\u001b[0m\u001b[0;34m(\u001b[0m\u001b[0mdata\u001b[0m\u001b[0;34m,\u001b[0m \u001b[0mdoc_uuid\u001b[0m\u001b[0;34m)\u001b[0m\u001b[0;34m\u001b[0m\u001b[0;34m\u001b[0m\u001b[0m\n\u001b[0m\u001b[1;32m     21\u001b[0m \u001b[0;34m\u001b[0m\u001b[0m\n\u001b[1;32m     22\u001b[0m     \u001b[0;31m# For each \"also likes\" document, get the readers and create edges\u001b[0m\u001b[0;34m\u001b[0m\u001b[0;34m\u001b[0m\u001b[0m\n",
      "\u001b[0;32m/var/folders/lh/6dgyfwc55fnbb2gc5ymttmcm0000gn/T/ipykernel_42907/1910447461.py\u001b[0m in \u001b[0;36malso_likes\u001b[0;34m(data, doc_uuid, visitor_uuid, sorting_function)\u001b[0m\n\u001b[1;32m     10\u001b[0m     \u001b[0;32mfor\u001b[0m \u001b[0mreader\u001b[0m \u001b[0;32min\u001b[0m \u001b[0mall_readers\u001b[0m\u001b[0;34m:\u001b[0m\u001b[0;34m\u001b[0m\u001b[0;34m\u001b[0m\u001b[0m\n\u001b[1;32m     11\u001b[0m \u001b[0;34m\u001b[0m\u001b[0m\n\u001b[0;32m---> 12\u001b[0;31m             \u001b[0mdocuments\u001b[0m \u001b[0;34m=\u001b[0m \u001b[0mset\u001b[0m\u001b[0;34m(\u001b[0m\u001b[0mget_document_by_readers\u001b[0m\u001b[0;34m(\u001b[0m\u001b[0mdata\u001b[0m\u001b[0;34m,\u001b[0m \u001b[0mreader\u001b[0m\u001b[0;34m)\u001b[0m\u001b[0;34m)\u001b[0m\u001b[0;34m\u001b[0m\u001b[0;34m\u001b[0m\u001b[0m\n\u001b[0m\u001b[1;32m     13\u001b[0m             \u001b[0;32mfor\u001b[0m \u001b[0mdoc\u001b[0m \u001b[0;32min\u001b[0m \u001b[0mdocuments\u001b[0m\u001b[0;34m:\u001b[0m\u001b[0;34m\u001b[0m\u001b[0;34m\u001b[0m\u001b[0m\n\u001b[1;32m     14\u001b[0m                 \u001b[0;32mif\u001b[0m \u001b[0mdoc\u001b[0m \u001b[0;32mnot\u001b[0m \u001b[0;32min\u001b[0m \u001b[0mliked_documents\u001b[0m\u001b[0;34m:\u001b[0m\u001b[0;34m\u001b[0m\u001b[0;34m\u001b[0m\u001b[0m\n",
      "\u001b[0;32m/var/folders/lh/6dgyfwc55fnbb2gc5ymttmcm0000gn/T/ipykernel_42907/3347603131.py\u001b[0m in \u001b[0;36mget_document_by_readers\u001b[0;34m(data, visitor_uuid)\u001b[0m\n\u001b[1;32m      2\u001b[0m     \u001b[0mall_docs\u001b[0m \u001b[0;34m=\u001b[0m \u001b[0;34m[\u001b[0m\u001b[0;34m]\u001b[0m\u001b[0;34m\u001b[0m\u001b[0;34m\u001b[0m\u001b[0m\n\u001b[1;32m      3\u001b[0m     \u001b[0;32mfor\u001b[0m \u001b[0mrecord\u001b[0m \u001b[0;32min\u001b[0m \u001b[0mdata\u001b[0m\u001b[0;34m:\u001b[0m\u001b[0;34m\u001b[0m\u001b[0;34m\u001b[0m\u001b[0m\n\u001b[0;32m----> 4\u001b[0;31m         \u001b[0;32mif\u001b[0m \u001b[0;34m'visitor_uuid'\u001b[0m \u001b[0;32min\u001b[0m \u001b[0mrecord\u001b[0m \u001b[0;32mand\u001b[0m \u001b[0mrecord\u001b[0m\u001b[0;34m[\u001b[0m\u001b[0;34m'visitor_uuid'\u001b[0m\u001b[0;34m]\u001b[0m \u001b[0;34m==\u001b[0m \u001b[0mvisitor_uuid\u001b[0m \u001b[0;32mand\u001b[0m \u001b[0;34m'subject_doc_id'\u001b[0m \u001b[0;32min\u001b[0m \u001b[0mrecord\u001b[0m\u001b[0;34m:\u001b[0m\u001b[0;34m\u001b[0m\u001b[0;34m\u001b[0m\u001b[0m\n\u001b[0m\u001b[1;32m      5\u001b[0m             \u001b[0mall_docs\u001b[0m\u001b[0;34m.\u001b[0m\u001b[0mappend\u001b[0m\u001b[0;34m(\u001b[0m\u001b[0mrecord\u001b[0m\u001b[0;34m[\u001b[0m\u001b[0;34m'subject_doc_id'\u001b[0m\u001b[0;34m]\u001b[0m\u001b[0;34m)\u001b[0m\u001b[0;34m\u001b[0m\u001b[0;34m\u001b[0m\u001b[0m\n\u001b[1;32m      6\u001b[0m     \u001b[0;32mreturn\u001b[0m \u001b[0mall_docs\u001b[0m\u001b[0;34m\u001b[0m\u001b[0;34m\u001b[0m\u001b[0m\n",
      "\u001b[0;31mKeyboardInterrupt\u001b[0m: "
     ]
    }
   ],
   "source": [
    "from graphviz import Digraph\n",
    "\n",
    "# Assuming the also_likes function and other necessary functions are defined\n",
    "# Here's an implementation of the graph generation:\n",
    "\n",
    "def generate_graph(data, doc_uuid, visitor_uuid = None):\n",
    "    # Create a Digraph object\n",
    "    dot = Digraph(comment='Also Likes Graph')\n",
    "\n",
    "    # Highlight the input document and visitor\n",
    "    mainDocId = doc_uuid[-4:]\n",
    "    mainVisitorId = visitor_uuid[-4:]\n",
    "    dot.node(mainDocId, mainDocId, style='filled', fillcolor='green')\n",
    "    if visitor_uuid:\n",
    "        dot.attr('node', shape='box')\n",
    "        dot.node(mainVisitorId, mainVisitorId, style='filled', fillcolor='green')\n",
    "        dot.attr('node', shape='ellipse')\n",
    "\n",
    "    # Get the list of \"also likes\" documents using the also_likes function\n",
    "    also_likes_docs = also_likes(data, doc_uuid)\n",
    "    \n",
    "    # For each \"also likes\" document, get the readers and create edges\n",
    "    for doc, info in also_likes_docs:\n",
    "\n",
    "        docId = doc[-4:]\n",
    "        # Add the document node\n",
    "        dot.node(docId, docId)\n",
    "\n",
    "        readers = info['readers']\n",
    "\n",
    "        for reader in readers:\n",
    "            readerId = reader[-4:]\n",
    "            # Add the reader node\n",
    "            dot.attr('node', shape='box')\n",
    "            dot.node(readerId, readerId)\n",
    "            dot.attr('node', shape='ellipse')\n",
    "            # Add an edge from reader to the document\n",
    "            dot.edge(readerId, docId)\n",
    "\n",
    "    # Generate and save the graph\n",
    "    print(dot.source) \n",
    "    dot.render('also_likes_graph', format='png', cleanup=True)  # Save the graph as a PNG file\n",
    "\n",
    "\n",
    "# Call the function with the specific document UUID and visitor UUID\n",
    "generate_graph(data, \"100713205147-2ee05a98f1794324952eea5ca678c026\", \"489c02f3e258c199\")\n"
   ]
  },
  {
   "cell_type": "code",
   "execution_count": null,
   "metadata": {},
   "outputs": [],
   "source": []
  },
  {
   "cell_type": "code",
   "execution_count": null,
   "metadata": {},
   "outputs": [],
   "source": []
  }
 ],
 "metadata": {
  "kernelspec": {
   "display_name": "Python 3",
   "language": "python",
   "name": "python3"
  },
  "language_info": {
   "codemirror_mode": {
    "name": "ipython",
    "version": 3
   },
   "file_extension": ".py",
   "mimetype": "text/x-python",
   "name": "python",
   "nbconvert_exporter": "python",
   "pygments_lexer": "ipython3",
   "version": "3.9.7"
  }
 },
 "nbformat": 4,
 "nbformat_minor": 2
}
