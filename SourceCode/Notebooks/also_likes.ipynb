{
 "cells": [
  {
   "cell_type": "code",
   "execution_count": 108,
   "metadata": {},
   "outputs": [],
   "source": [
    "import json\n",
    "import numpy as np\n",
    "import pandas as pd\n",
    "import matplotlib.pyplot as plt\n",
    "from collections import Counter\n",
    "import datetime"
   ]
  },
  {
   "cell_type": "code",
   "execution_count": 109,
   "metadata": {},
   "outputs": [],
   "source": [
    "# Import the data from the json file\n",
    "# Data is in format {},{},{},... and in a text file\n",
    "\n",
    "# Read the data from the file\n",
    "with open('../../Dataset/build_dataset.txt') as f:\n",
    "    data = f.readlines()\n",
    "\n",
    "# Convert the data to a list of dictionaries\n",
    "data = [json.loads(x.strip()) for x in data]"
   ]
  },
  {
   "cell_type": "code",
   "execution_count": 110,
   "metadata": {},
   "outputs": [],
   "source": [
    "def get_readers_by_document(data, doc_uuid):\n",
    "    all_readers = []\n",
    "    for record in data:\n",
    "        if 'subject_doc_id' in record and  record['subject_doc_id'] == doc_uuid:\n",
    "            all_readers.append(record['visitor_uuid'])\n",
    "    return all_readers\n"
   ]
  },
  {
   "cell_type": "code",
   "execution_count": 111,
   "metadata": {},
   "outputs": [],
   "source": [
    "def get_document_by_readers(data, visitor_uuid):\n",
    "    all_docs = []\n",
    "    for record in data:\n",
    "        if 'visitor_uuid' in record and record['visitor_uuid'] == visitor_uuid and 'subject_doc_id' in record:\n",
    "            all_docs.append(record['subject_doc_id'])\n",
    "    return all_docs\n"
   ]
  },
  {
   "cell_type": "code",
   "execution_count": 139,
   "metadata": {},
   "outputs": [],
   "source": [
    "def also_likes(data, doc_uuid, sorting_function=None):\n",
    "\n",
    "    if sorting_function is None:\n",
    "        sorting_function = lambda x: x[1]['count']\n",
    "\n",
    "    all_readers = set(get_readers_by_document(data, doc_uuid))\n",
    "\n",
    "    liked_documents = {}\n",
    "\n",
    "    for reader in all_readers:\n",
    "            \n",
    "            documents = set(get_document_by_readers(data, reader))\n",
    "            for doc in documents:\n",
    "                if doc not in liked_documents:\n",
    "                    liked_documents[doc] = {'count': 0, 'readers': set()}\n",
    "                liked_documents[doc]['count'] += 1\n",
    "                liked_documents[doc]['readers'].add(reader)\n",
    "\n",
    "    sorted_docs = sorted(liked_documents.items(), key=sorting_function, reverse=True)\n",
    "\n",
    "    return sorted_docs[:10]"
   ]
  },
  {
   "cell_type": "code",
   "execution_count": 140,
   "metadata": {},
   "outputs": [
    {
     "name": "stdout",
     "output_type": "stream",
     "text": [
      "('131202094202-a4ae3185bc84368f14bff266d276eb4b', {'232eeca785873d35', '489c02f3e258c199', '76175bb1ea9805a1', 'cee42a0927c5f2da'})\n",
      "('100713205147-2ee05a98f1794324952eea5ca678c026', {'232eeca785873d35', '489c02f3e258c199', '76175bb1ea9805a1', 'cee42a0927c5f2da'})\n",
      "('140218233015-c848da298ed6d38b98e18a85731a83f4', {'232eeca785873d35', '489c02f3e258c199', '76175bb1ea9805a1', 'cee42a0927c5f2da'})\n",
      "('131218101426-7fe24377c762b8fe53d21b65fcfa9b25', {'489c02f3e258c199', '76175bb1ea9805a1', 'cee42a0927c5f2da'})\n",
      "('140227224130-4cee2895b1d03b9f5f2acc37872286f9', {'232eeca785873d35'})\n",
      "('140128221921-4c304a111b9e0a3425f419563ad6e29a', {'232eeca785873d35'})\n",
      "('140105003611-c7cfe5f7cdeb7072cda8d885cc3be2ea', {'232eeca785873d35'})\n",
      "('131026155107-acf6375f44f1648870c9a12396618a62', {'232eeca785873d35'})\n",
      "('140227072831-649625805917e1f042bdb1f645d588ff', {'232eeca785873d35'})\n",
      "('140228083520-000000008d3679dbb78286526bd8c14b', {'232eeca785873d35'})\n"
     ]
    }
   ],
   "source": [
    "doc_uuid = \"100713205147-2ee05a98f1794324952eea5ca678c026\"  # Replace with actual document UUID\n",
    "visitor_uuid = \"8fd99d4cbfb9b8d8\"  # Replace with actual visitor UUID\n",
    "\n",
    "# Get the top 10 'also likes' documents\n",
    "top_liked_docs = also_likes(data, doc_uuid)\n",
    "for doc in top_liked_docs:\n",
    "    print(doc)"
   ]
  },
  {
   "cell_type": "code",
   "execution_count": 131,
   "metadata": {},
   "outputs": [
    {
     "ename": "TypeError",
     "evalue": "'set' object is not subscriptable",
     "output_type": "error",
     "traceback": [
      "\u001b[0;31m---------------------------------------------------------------------------\u001b[0m",
      "\u001b[0;31mTypeError\u001b[0m                                 Traceback (most recent call last)",
      "\u001b[0;32m/var/folders/lh/6dgyfwc55fnbb2gc5ymttmcm0000gn/T/ipykernel_23740/962805416.py\u001b[0m in \u001b[0;36m<module>\u001b[0;34m\u001b[0m\n\u001b[1;32m     45\u001b[0m \u001b[0;34m\u001b[0m\u001b[0m\n\u001b[1;32m     46\u001b[0m \u001b[0;31m# Call the function with the specific document UUID and visitor UUID\u001b[0m\u001b[0;34m\u001b[0m\u001b[0;34m\u001b[0m\u001b[0m\n\u001b[0;32m---> 47\u001b[0;31m \u001b[0mgenerate_graph\u001b[0m\u001b[0;34m(\u001b[0m\u001b[0mdata\u001b[0m\u001b[0;34m,\u001b[0m \u001b[0;34m\"100713205147-2ee05a98f1794324952eea5ca678c026\"\u001b[0m\u001b[0;34m,\u001b[0m \u001b[0;34m\"489c02f3e258c199\"\u001b[0m\u001b[0;34m)\u001b[0m\u001b[0;34m\u001b[0m\u001b[0;34m\u001b[0m\u001b[0m\n\u001b[0m",
      "\u001b[0;32m/var/folders/lh/6dgyfwc55fnbb2gc5ymttmcm0000gn/T/ipykernel_23740/962805416.py\u001b[0m in \u001b[0;36mgenerate_graph\u001b[0;34m(data, doc_uuid, visitor_uuid)\u001b[0m\n\u001b[1;32m     31\u001b[0m \u001b[0;34m\u001b[0m\u001b[0m\n\u001b[1;32m     32\u001b[0m         \u001b[0;32mfor\u001b[0m \u001b[0mreader\u001b[0m \u001b[0;32min\u001b[0m \u001b[0mvisitors\u001b[0m\u001b[0;34m:\u001b[0m\u001b[0;34m\u001b[0m\u001b[0;34m\u001b[0m\u001b[0m\n\u001b[0;32m---> 33\u001b[0;31m             \u001b[0mreaderId\u001b[0m \u001b[0;34m=\u001b[0m \u001b[0mreader\u001b[0m\u001b[0;34m[\u001b[0m\u001b[0;34m-\u001b[0m\u001b[0;36m4\u001b[0m\u001b[0;34m:\u001b[0m\u001b[0;34m]\u001b[0m\u001b[0;34m\u001b[0m\u001b[0;34m\u001b[0m\u001b[0m\n\u001b[0m\u001b[1;32m     34\u001b[0m             \u001b[0;31m# Add the reader node\u001b[0m\u001b[0;34m\u001b[0m\u001b[0;34m\u001b[0m\u001b[0m\n\u001b[1;32m     35\u001b[0m             \u001b[0mdot\u001b[0m\u001b[0;34m.\u001b[0m\u001b[0mattr\u001b[0m\u001b[0;34m(\u001b[0m\u001b[0;34m'node'\u001b[0m\u001b[0;34m,\u001b[0m \u001b[0mshape\u001b[0m\u001b[0;34m=\u001b[0m\u001b[0;34m'box'\u001b[0m\u001b[0;34m)\u001b[0m\u001b[0;34m\u001b[0m\u001b[0;34m\u001b[0m\u001b[0m\n",
      "\u001b[0;31mTypeError\u001b[0m: 'set' object is not subscriptable"
     ]
    }
   ],
   "source": [
    "from graphviz import Digraph\n",
    "\n",
    "# Assuming the also_likes function and other necessary functions are defined\n",
    "# Here's an implementation of the graph generation:\n",
    "\n",
    "def generate_graph(data, doc_uuid, visitor_uuid = None):\n",
    "    # Create a Digraph object\n",
    "    dot = Digraph(comment='Also Likes Graph')\n",
    "\n",
    "    # Highlight the input document and visitor\n",
    "    mainDocId = doc_uuid[-4:]\n",
    "    mainVisitorId = visitor_uuid[-4:]\n",
    "    dot.node(mainDocId, mainDocId, style='filled', fillcolor='green')\n",
    "    if visitor_uuid:\n",
    "        dot.attr('node', shape='box')\n",
    "        dot.node(mainVisitorId, mainVisitorId, style='filled', fillcolor='green')\n",
    "        dot.attr('node', shape='ellipse')\n",
    "\n",
    "    # Get the list of \"also likes\" documents using the also_likes function\n",
    "    also_likes_docs = also_likes(data, doc_uuid)\n",
    "    \n",
    "    # For each \"also likes\" document, get the readers and create edges\n",
    "    for doc in also_likes_docs:\n",
    "\n",
    "        docId = doc[-4:]\n",
    "        # Add the document node\n",
    "        dot.node(docId, docId)\n",
    "\n",
    "        readers = set(get_readers_by_document(data, doc))\n",
    "\n",
    "        for reader in readers:\n",
    "            readerId = reader[-4:]\n",
    "            # Add the reader node\n",
    "            dot.attr('node', shape='box')\n",
    "            dot.node(readerId, readerId)\n",
    "            dot.attr('node', shape='ellipse')\n",
    "            # Add an edge from reader to the document\n",
    "            dot.edge(readerId, docId)\n",
    "\n",
    "    # Generate and save the graph\n",
    "    print(dot.source) \n",
    "    dot.render('also_likes_graph', format='png', cleanup=True)  # Save the graph as a PNG file\n",
    "\n",
    "\n",
    "# Call the function with the specific document UUID and visitor UUID\n",
    "generate_graph(data, \"100713205147-2ee05a98f1794324952eea5ca678c026\", \"489c02f3e258c199\")\n"
   ]
  },
  {
   "cell_type": "code",
   "execution_count": null,
   "metadata": {},
   "outputs": [],
   "source": []
  },
  {
   "cell_type": "code",
   "execution_count": null,
   "metadata": {},
   "outputs": [],
   "source": []
  }
 ],
 "metadata": {
  "kernelspec": {
   "display_name": "Python 3",
   "language": "python",
   "name": "python3"
  },
  "language_info": {
   "codemirror_mode": {
    "name": "ipython",
    "version": 3
   },
   "file_extension": ".py",
   "mimetype": "text/x-python",
   "name": "python",
   "nbconvert_exporter": "python",
   "pygments_lexer": "ipython3",
   "version": "3.9.7"
  }
 },
 "nbformat": 4,
 "nbformat_minor": 2
}
