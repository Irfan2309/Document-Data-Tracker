{
 "cells": [
  {
   "cell_type": "code",
   "execution_count": 1,
   "metadata": {},
   "outputs": [],
   "source": [
    "import json\n",
    "import numpy as np\n",
    "import pandas as pd\n",
    "import matplotlib.pyplot as plt\n",
    "from collections import Counter\n",
    "import datetime"
   ]
  },
  {
   "cell_type": "code",
   "execution_count": 2,
   "metadata": {},
   "outputs": [],
   "source": [
    "# Import the data from the json file\n",
    "# Data is in format {},{},{},... and in a text file\n",
    "\n",
    "# Read the data from the file\n",
    "with open('../../Dataset/build_dataset.txt') as f:\n",
    "    data = f.readlines()\n",
    "\n",
    "# Convert the data to a list of dictionaries\n",
    "data = [json.loads(x.strip()) for x in data]"
   ]
  },
  {
   "cell_type": "code",
   "execution_count": 3,
   "metadata": {},
   "outputs": [],
   "source": [
    "def get_readers_by_document(data, doc_uuid):\n",
    "    all_readers = []\n",
    "    for record in data:\n",
    "        if 'env_doc_id' in record and  record['env_doc_id'] == doc_uuid:\n",
    "            all_readers.append(record['visitor_uuid'])\n",
    "    return all_readers\n"
   ]
  },
  {
   "cell_type": "code",
   "execution_count": 4,
   "metadata": {},
   "outputs": [],
   "source": [
    "def get_document_by_readers(data, visitor_uuid):\n",
    "    all_docs = []\n",
    "    for record in data:\n",
    "        if 'visitor_uuid' in record and record['visitor_uuid'] == visitor_uuid:\n",
    "            all_docs.append(record['env_doc_id'])\n",
    "    return all_docs\n"
   ]
  },
  {
   "cell_type": "code",
   "execution_count": 10,
   "metadata": {},
   "outputs": [],
   "source": [
    "def also_likes(data, doc_uuid, visitor_uuid=None, sorting_function=None):\n",
    "\n",
    "    if sorting_function is None:\n",
    "        sorting_function = lambda x: x[1]\n",
    "\n",
    "    all_readers = get_readers_by_document(data, doc_uuid)\n",
    "    unique_readers = set(all_readers)\n",
    "\n",
    "    liked_documents = {}\n",
    "\n",
    "    for reader in unique_readers:\n",
    "            \n",
    "            docs = get_document_by_readers(data, reader)\n",
    "            unique_docs = set(docs)\n",
    "\n",
    "            for doc in docs:\n",
    "                if doc != doc_uuid:\n",
    "                    liked_documents[doc] = liked_documents.get(doc, 0) + 1\n",
    "\n",
    "    sorted_docs = sorted(liked_documents.items(), key=sorting_function, reverse=True)\n",
    "    return [doc[0] for doc in sorted_docs]"
   ]
  },
  {
   "cell_type": "code",
   "execution_count": 6,
   "metadata": {},
   "outputs": [],
   "source": [
    "def sort_by_readers(item):\n",
    "    return item[1]"
   ]
  },
  {
   "cell_type": "code",
   "execution_count": 11,
   "metadata": {},
   "outputs": [
    {
     "name": "stdout",
     "output_type": "stream",
     "text": [
      "[('140228202800-6ef39a241f35301a9a42cd0ed21e5fb0', 29), ('140219141540-c900b41f845c67cc08b58911155c681c', 15)]\n",
      "['140228202800-6ef39a241f35301a9a42cd0ed21e5fb0', '140219141540-c900b41f845c67cc08b58911155c681c']\n"
     ]
    }
   ],
   "source": [
    "doc_uuid = \"140204115519-f5fa6ce8b288c9f10e0c8bc7e1a456a0\"  # Replace with actual document UUID\n",
    "visitor_uuid = \"8fd99d4cbfb9b8d8\"  # Replace with actual visitor UUID\n",
    "\n",
    "# Get the top 10 'also likes' documents\n",
    "top_liked_docs = also_likes(data, doc_uuid, visitor_uuid, sort_by_readers)\n",
    "print(top_liked_docs)"
   ]
  }
 ],
 "metadata": {
  "kernelspec": {
   "display_name": "Python 3",
   "language": "python",
   "name": "python3"
  },
  "language_info": {
   "codemirror_mode": {
    "name": "ipython",
    "version": 3
   },
   "file_extension": ".py",
   "mimetype": "text/x-python",
   "name": "python",
   "nbconvert_exporter": "python",
   "pygments_lexer": "ipython3",
   "version": "3.9.7"
  }
 },
 "nbformat": 4,
 "nbformat_minor": 2
}
