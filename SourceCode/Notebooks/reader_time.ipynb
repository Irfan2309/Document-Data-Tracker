{
 "cells": [
  {
   "cell_type": "code",
   "execution_count": 1,
   "metadata": {},
   "outputs": [],
   "source": [
    "import json\n",
    "import numpy as np\n",
    "import pandas as pd\n",
    "import matplotlib.pyplot as plt"
   ]
  },
  {
   "cell_type": "code",
   "execution_count": 2,
   "metadata": {},
   "outputs": [],
   "source": [
    "# Import the data from the json file\n",
    "# Data is in format {},{},{},... and in a text file\n",
    "\n",
    "# Read the data from the file\n",
    "with open('../../Dataset/build_dataset.txt') as f:\n",
    "    data = f.readlines()\n",
    "\n",
    "# Convert the data to a list of dictionaries\n",
    "data = [json.loads(x.strip()) for x in data]"
   ]
  },
  {
   "cell_type": "code",
   "execution_count": 4,
   "metadata": {},
   "outputs": [
    {
     "data": {
      "text/plain": [
       "[{'ts': 1393631983,\n",
       "  'visitor_uuid': '04daa9ed9dde73d3',\n",
       "  'visitor_source': 'external',\n",
       "  'visitor_device': 'browser',\n",
       "  'visitor_useragent': 'Mozilla/5.0 (Windows NT 6.1; WOW64) AppleWebKit/537.36 (KHTML, like Gecko) Chrome/33.0.1750.117 Safari/537.36',\n",
       "  'visitor_ip': '6a3273d508a9de04',\n",
       "  'visitor_country': 'ES',\n",
       "  'visitor_referrer': '64f729926497515c',\n",
       "  'env_type': 'reader',\n",
       "  'env_doc_id': '140224195414-e5a9acedd5eb6631bb6b39422fba6798',\n",
       "  'event_type': 'impression',\n",
       "  'subject_type': 'doc',\n",
       "  'subject_doc_id': '140224195414-e5a9acedd5eb6631bb6b39422fba6798',\n",
       "  'subject_page': 0,\n",
       "  'cause_type': 'impression'},\n",
       " {'ts': 1393631983,\n",
       "  'visitor_uuid': '04daa9ed9dde73d3',\n",
       "  'visitor_source': 'external',\n",
       "  'visitor_device': 'browser',\n",
       "  'visitor_useragent': 'Mozilla/5.0 (Windows NT 6.1; WOW64) AppleWebKit/537.36 (KHTML, like Gecko) Chrome/33.0.1750.117 Safari/537.36',\n",
       "  'visitor_ip': '6a3273d508a9de04',\n",
       "  'visitor_country': 'ES',\n",
       "  'visitor_referrer': '64f729926497515c',\n",
       "  'env_type': 'reader',\n",
       "  'env_doc_id': '140224195414-e5a9acedd5eb6631bb6b39422fba6798',\n",
       "  'event_type': 'impression',\n",
       "  'subject_type': 'doc',\n",
       "  'subject_doc_id': '140224195414-e5a9acedd5eb6631bb6b39422fba6798',\n",
       "  'subject_page': 1,\n",
       "  'cause_type': 'page'}]"
      ]
     },
     "execution_count": 4,
     "metadata": {},
     "output_type": "execute_result"
    }
   ],
   "source": [
    "data[:2]"
   ]
  },
  {
   "cell_type": "code",
   "execution_count": 9,
   "metadata": {},
   "outputs": [
    {
     "name": "stdout",
     "output_type": "stream",
     "text": [
      "User e529f034d3430af2 spent a total of 5356278 seconds reading.\n",
      "User dd326898d5605e63 spent a total of 648318 seconds reading.\n",
      "User 458999cbf4307f34 spent a total of 576177 seconds reading.\n",
      "User 849bb060cb110347 spent a total of 486053 seconds reading.\n",
      "User df70cddbd46fd5da spent a total of 239350 seconds reading.\n",
      "User 14e1e343078d3d75 spent a total of 161381 seconds reading.\n",
      "User 2105dd9bc68afb9d spent a total of 109458 seconds reading.\n",
      "User da0df8a63107e139 spent a total of 98291 seconds reading.\n",
      "User b9caded38e707eca spent a total of 98183 seconds reading.\n",
      "User e1178362fc11d6ba spent a total of 98172 seconds reading.\n"
     ]
    }
   ],
   "source": [
    "def user_reader_time():\n",
    "    # Dictionary to store total reading time per user\n",
    "    reading_times = {}\n",
    "\n",
    "    # Iterate over each record\n",
    "    for record in data:\n",
    "        user_id = record['visitor_uuid']\n",
    "        time_spent = record.get('event_readtime', 0)  # Replace 'time_spent' with your actual field name\n",
    "\n",
    "        # Add the time spent to the user's total\n",
    "        if user_id in reading_times:\n",
    "            reading_times[user_id] += time_spent\n",
    "        else:\n",
    "            reading_times[user_id] = time_spent\n",
    "\n",
    "    # Sort users by total reading time, descending\n",
    "    top_readers = sorted(reading_times.items(), key=lambda x: x[1], reverse=True)\n",
    "    return top_readers\n",
    "\n",
    "top_readers = user_reader_time()\n",
    "# Print the top 10 readers\n",
    "for user, total_time in top_readers[:10]:\n",
    "    print(f\"User {user} spent a total of {total_time} seconds reading.\")\n"
   ]
  },
  {
   "cell_type": "code",
   "execution_count": null,
   "metadata": {},
   "outputs": [],
   "source": []
  }
 ],
 "metadata": {
  "kernelspec": {
   "display_name": "Python 3",
   "language": "python",
   "name": "python3"
  },
  "language_info": {
   "codemirror_mode": {
    "name": "ipython",
    "version": 3
   },
   "file_extension": ".py",
   "mimetype": "text/x-python",
   "name": "python",
   "nbconvert_exporter": "python",
   "pygments_lexer": "ipython3",
   "version": "3.11.5"
  }
 },
 "nbformat": 4,
 "nbformat_minor": 2
}
