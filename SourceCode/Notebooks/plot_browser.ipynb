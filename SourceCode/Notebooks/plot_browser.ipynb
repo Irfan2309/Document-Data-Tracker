{
 "cells": [
  {
   "cell_type": "code",
   "execution_count": 1,
   "metadata": {},
   "outputs": [],
   "source": [
    "import json\n",
    "import numpy as np\n",
    "import pandas as pd\n",
    "import matplotlib.pyplot as plt\n",
    "from collections import Counter\n"
   ]
  },
  {
   "cell_type": "code",
   "execution_count": 2,
   "metadata": {},
   "outputs": [],
   "source": [
    "# Import the data from the json file\n",
    "# Data is in format {},{},{},... and in a text file\n",
    "\n",
    "# Read the data from the file\n",
    "with open('../../Dataset/build_dataset.txt') as f:\n",
    "    data = f.readlines()\n",
    "\n",
    "# Convert the data to a list of dictionaries\n",
    "data = [json.loads(x.strip()) for x in data]"
   ]
  },
  {
   "cell_type": "code",
   "execution_count": 3,
   "metadata": {},
   "outputs": [],
   "source": [
    "# Function to create a histogram\n",
    "def create_histogram(data, title, xlabel, ylabel='Number of Views', color='darkblue'):\n",
    "    # Create a figure\n",
    "    plt.figure(figsize=(10, 6))\n",
    "    # Create a bar plot\n",
    "    plt.bar(data.keys(), data.values(), color=color)\n",
    "    # Add a title and axis labels\n",
    "    plt.title(title)\n",
    "    # Print x label\n",
    "    plt.xlabel(xlabel)\n",
    "    # Print y label\n",
    "    plt.ylabel(ylabel)\n",
    "    # Show the plot\n",
    "    plt.show()"
   ]
  },
  {
   "cell_type": "code",
   "execution_count": 11,
   "metadata": {},
   "outputs": [
    {
     "data": {
      "image/png": "[encoded data removed]",
      "text/plain": [
       "<Figure size 720x432 with 1 Axes>"
      ]
     },
     "metadata": {
      "needs_background": "light"
     },
     "output_type": "display_data"
    }
   ],
   "source": [
    "# Function to get the browser from the user agent\n",
    "def get_browser():\n",
    "    # Get the user agent from the data\n",
    "    visitor_useragent = []\n",
    "    for i in range(len(data)):\n",
    "        visitor_useragent.append(data[i]['visitor_useragent'])\n",
    "    \n",
    "    # Get the browser from the user agent\n",
    "    browser = []\n",
    "    for i in range(len(visitor_useragent)):\n",
    "        browser.append(visitor_useragent[i].split('/')[0])\n",
    "        \n",
    "    # Return the browser\n",
    "    return browser\n",
    "\n",
    "# Get browser counts\n",
    "browser_counts = Counter(get_browser())\n",
    "create_histogram(browser_counts, 'Web Browser Usage', 'Browser Name')"
   ]
  }
 ],
 "metadata": {
  "kernelspec": {
   "display_name": "Python 3",
   "language": "python",
   "name": "python3"
  },
  "language_info": {
   "codemirror_mode": {
    "name": "ipython",
    "version": 3
   },
   "file_extension": ".py",
   "mimetype": "text/x-python",
   "name": "python",
   "nbconvert_exporter": "python",
   "pygments_lexer": "ipython3",
   "version": "3.9.7"
  }
 },
 "nbformat": 4,
 "nbformat_minor": 2
}
