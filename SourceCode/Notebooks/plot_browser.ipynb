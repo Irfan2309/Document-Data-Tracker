{
 "cells": [
  {
   "cell_type": "code",
   "execution_count": 13,
   "metadata": {},
   "outputs": [],
   "source": [
    "import json\n",
    "import numpy as np\n",
    "import pandas as pd\n",
    "import matplotlib.pyplot as plt\n",
    "from collections import Counter\n",
    "from user_agents import parse\n",
    "import mplcursors\n"
   ]
  },
  {
   "cell_type": "code",
   "execution_count": 14,
   "metadata": {},
   "outputs": [],
   "source": [
    "# Import the data from the json file\n",
    "# Data is in format {},{},{},... and in a text file\n",
    "\n",
    "# Read the data from the file\n",
    "with open('../../Dataset/build_dataset.txt') as f:\n",
    "    data = f.readlines()\n",
    "\n",
    "# Convert the data to a list of dictionaries\n",
    "data = [json.loads(x.strip()) for x in data]"
   ]
  },
  {
   "cell_type": "code",
   "execution_count": 15,
   "metadata": {},
   "outputs": [],
   "source": [
    "import matplotlib.pyplot as plt\n",
    "\n",
    "# Function to create a histogram with interactive hover feature\n",
    "def create_histogram(data, title, xlabel, ylabel='Visitors', color='darkblue'):\n",
    "    # Create a figure and bar plot\n",
    "    fig, ax = plt.subplots(figsize=(12, 10))\n",
    "    bars = ax.bar(data.keys(), data.values(), color=color)\n",
    "\n",
    "    # Add a title and axis labels\n",
    "    ax.set_title(title)\n",
    "    ax.set_xlabel(xlabel)\n",
    "    ax.set_ylabel(ylabel)\n",
    "\n",
    "    # Hide the x-ticks\n",
    "    ax.set_xticks([])\n",
    "\n",
    "    # Use mplcursors to add interactive hover tooltips to the bars\n",
    "    cursor = mplcursors.cursor(bars, hover=True)\n",
    "    cursor.connect(\"add\", lambda sel: sel.annotation.set_text(f'Visitors: {data[sel.target.index]}'))\n",
    "\n",
    "    # Show the plot\n",
    "    plt.show()\n",
    "\n"
   ]
  },
  {
   "cell_type": "code",
   "execution_count": 20,
   "metadata": {},
   "outputs": [
    {
     "ename": "TypeError",
     "evalue": "unhashable type: 'slice'",
     "output_type": "error",
     "traceback": [
      "\u001b[0;31m---------------------------------------------------------------------------\u001b[0m",
      "\u001b[0;31mTypeError\u001b[0m                                 Traceback (most recent call last)",
      "\u001b[0;32m/var/folders/lh/6dgyfwc55fnbb2gc5ymttmcm0000gn/T/ipykernel_45402/2118488952.py\u001b[0m in \u001b[0;36m<module>\u001b[0;34m\u001b[0m\n\u001b[1;32m     20\u001b[0m \u001b[0;34m\u001b[0m\u001b[0m\n\u001b[1;32m     21\u001b[0m \u001b[0;31m# Get browser counts\u001b[0m\u001b[0;34m\u001b[0m\u001b[0;34m\u001b[0m\u001b[0m\n\u001b[0;32m---> 22\u001b[0;31m \u001b[0mbrowser_counts\u001b[0m \u001b[0;34m=\u001b[0m \u001b[0mget_browser\u001b[0m\u001b[0;34m(\u001b[0m\u001b[0mdata\u001b[0m\u001b[0;34m)\u001b[0m\u001b[0;34m\u001b[0m\u001b[0;34m\u001b[0m\u001b[0m\n\u001b[0m\u001b[1;32m     23\u001b[0m \u001b[0;34m\u001b[0m\u001b[0m\n\u001b[1;32m     24\u001b[0m \u001b[0;31m# Sort and unpack for plotting\u001b[0m\u001b[0;34m\u001b[0m\u001b[0;34m\u001b[0m\u001b[0m\n",
      "\u001b[0;32m/var/folders/lh/6dgyfwc55fnbb2gc5ymttmcm0000gn/T/ipykernel_45402/2118488952.py\u001b[0m in \u001b[0;36mget_browser\u001b[0;34m(data)\u001b[0m\n\u001b[1;32m     16\u001b[0m             \u001b[0mbrowser_counts\u001b[0m \u001b[0;34m=\u001b[0m \u001b[0mCounter\u001b[0m\u001b[0;34m(\u001b[0m\u001b[0mbrowsers\u001b[0m\u001b[0;34m)\u001b[0m\u001b[0;34m\u001b[0m\u001b[0;34m\u001b[0m\u001b[0m\n\u001b[1;32m     17\u001b[0m             \u001b[0msorted_browser_counts\u001b[0m \u001b[0;34m=\u001b[0m \u001b[0mdict\u001b[0m\u001b[0;34m(\u001b[0m\u001b[0msorted\u001b[0m\u001b[0;34m(\u001b[0m\u001b[0mbrowser_counts\u001b[0m\u001b[0;34m.\u001b[0m\u001b[0mitems\u001b[0m\u001b[0;34m(\u001b[0m\u001b[0;34m)\u001b[0m\u001b[0;34m,\u001b[0m \u001b[0mkey\u001b[0m\u001b[0;34m=\u001b[0m\u001b[0;32mlambda\u001b[0m \u001b[0mx\u001b[0m\u001b[0;34m:\u001b[0m \u001b[0mx\u001b[0m\u001b[0;34m[\u001b[0m\u001b[0;36m1\u001b[0m\u001b[0;34m]\u001b[0m\u001b[0;34m,\u001b[0m \u001b[0mreverse\u001b[0m\u001b[0;34m=\u001b[0m\u001b[0;32mTrue\u001b[0m\u001b[0;34m)\u001b[0m\u001b[0;34m)\u001b[0m\u001b[0;34m\u001b[0m\u001b[0;34m\u001b[0m\u001b[0m\n\u001b[0;32m---> 18\u001b[0;31m     \u001b[0;32mreturn\u001b[0m \u001b[0mdict\u001b[0m\u001b[0;34m(\u001b[0m\u001b[0msorted_browser_counts\u001b[0m\u001b[0;34m[\u001b[0m\u001b[0;34m:\u001b[0m\u001b[0;36m10\u001b[0m\u001b[0;34m]\u001b[0m\u001b[0;34m)\u001b[0m\u001b[0;34m\u001b[0m\u001b[0;34m\u001b[0m\u001b[0m\n\u001b[0m\u001b[1;32m     19\u001b[0m \u001b[0;34m\u001b[0m\u001b[0m\n\u001b[1;32m     20\u001b[0m \u001b[0;34m\u001b[0m\u001b[0m\n",
      "\u001b[0;31mTypeError\u001b[0m: unhashable type: 'slice'"
     ]
    }
   ],
   "source": [
    "# Function to get the browser from the user agent\n",
    "def get_browser(data):\n",
    "     \n",
    "    browsers = []\n",
    "    for record in data:\n",
    "        if 'visitor_useragent' in record:\n",
    "            user_agent = parse(record['visitor_useragent'])\n",
    "            # Just get the main browser family name without version or device\n",
    "            browser_family = user_agent.browser.family\n",
    "            # For more grouping, you can add conditions here to group by general browser type\n",
    "            if 'Mobile' in browser_family or 'Tablet' in browser_family or 'iOS' in browser_family or 'WebView' in browser_family or 'WebKit' in browser_family:\n",
    "                browser_family = browser_family.replace('Mobile', '').replace('Tablet', '').replace('iOS', '').replace('WebView', '').replace('WebKit', '')\n",
    "            #trim whitespace\n",
    "            browser_family = browser_family.strip()\n",
    "            browsers.append(browser_family)\n",
    "            browser_counts = Counter(browsers)\n",
    "            sorted_browser_counts = sorted(browser_counts.items(), key=lambda x: x[1], reverse=True)\n",
    "    return dict(sorted_browser_counts[:10])\n",
    "\n",
    "browser_counts = get_browser(data)\n",
    "create_histogram(browser_counts, 'Top 10 Browsers', 'Browser')\n"
   ]
  },
  {
   "cell_type": "code",
   "execution_count": null,
   "metadata": {},
   "outputs": [
    {
     "data": {
      "image/png": "[encoded data removed]",
      "text/plain": [
       "<Figure size 864x720 with 1 Axes>"
      ]
     },
     "metadata": {
      "needs_background": "light"
     },
     "output_type": "display_data"
    }
   ],
   "source": [
    "def get_all_browsers():\n",
    "    browsers= []\n",
    "    visitor_useragent = []\n",
    "    for record in data:\n",
    "        if 'visitor_useragent' in record:\n",
    "            visitor_useragent.append(record['visitor_useragent'])\n",
    "\n",
    "    \n",
    "    for user_agent in visitor_useragent:\n",
    "        browsers.append(user_agent)\n",
    "\n",
    "    return browsers\n",
    "\n",
    "browser_count = Counter(get_all_browsers())\n",
    "\n",
    "\n",
    "# Print results and create histogra,\n",
    "create_histogram(browser_count, 'Browser Histogram', 'Browser')"
   ]
  },
  {
   "cell_type": "code",
   "execution_count": null,
   "metadata": {},
   "outputs": [],
   "source": []
  }
 ],
 "metadata": {
  "kernelspec": {
   "display_name": "Python 3",
   "language": "python",
   "name": "python3"
  },
  "language_info": {
   "codemirror_mode": {
    "name": "ipython",
    "version": 3
   },
   "file_extension": ".py",
   "mimetype": "text/x-python",
   "name": "python",
   "nbconvert_exporter": "python",
   "pygments_lexer": "ipython3",
   "version": "3.9.7"
  }
 },
 "nbformat": 4,
 "nbformat_minor": 2
}
