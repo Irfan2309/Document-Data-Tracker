{
 "cells": [
  {
   "cell_type": "code",
   "execution_count": 84,
   "metadata": {},
   "outputs": [],
   "source": [
    "import json\n",
    "import numpy as np\n",
    "import pandas as pd\n",
    "import matplotlib.pyplot as plt\n",
    "from collections import Counter\n"
   ]
  },
  {
   "cell_type": "code",
   "execution_count": 85,
   "metadata": {},
   "outputs": [],
   "source": [
    "# Import the data from the json file\n",
    "# Data is in format {},{},{},... and in a text file\n",
    "\n",
    "# Read the data from the file\n",
    "with open('../../Dataset/build_dataset.txt') as f:\n",
    "    data = f.readlines()\n",
    "\n",
    "# Convert the data to a list of dictionaries\n",
    "data = [json.loads(x.strip()) for x in data]"
   ]
  },
  {
   "cell_type": "code",
   "execution_count": 86,
   "metadata": {},
   "outputs": [],
   "source": [
    "# Function to create a histogram\n",
    "def create_histogram(x, y, title, xlabel, ylabel='Visitors', color='blue'):\n",
    "    # Create a figure\n",
    "    plt.figure(figsize=(10, 8))\n",
    "    # Create a bar plot\n",
    "    plt.bar(x, y, color=color, edgecolor='black')\n",
    "    # Add a title and axis labels\n",
    "    plt.title(title)\n",
    "    # Print x label\n",
    "    plt.xlabel(xlabel)\n",
    "    # Print y label\n",
    "    plt.ylabel(ylabel)\n",
    "    # Rotate xticks\n",
    "    plt.xticks(rotation=30)\n",
    "    # Show the plot\n",
    "    plt.show()"
   ]
  },
  {
   "cell_type": "code",
   "execution_count": 87,
   "metadata": {},
   "outputs": [
    {
     "name": "stdout",
     "output_type": "stream",
     "text": [
      "('Chrome', 'Safari', 'Internet Explorer', 'Firefox', 'Safari (iOS Device)', 'Opera', 'Other')\n",
      "(4720, 1869, 1652, 1534, 113, 107, 8)\n"
     ]
    },
    {
     "data": {
      "image/png": "[encoded data removed]",
      "text/plain": [
       "<Figure size 720x576 with 1 Axes>"
      ]
     },
     "metadata": {
      "needs_background": "light"
     },
     "output_type": "display_data"
    }
   ],
   "source": [
    "# Function to get the browser from the user agent\n",
    "def get_browser():\n",
    "    # Get the user agent from the data\n",
    "    visitor_useragent = []\n",
    "    for i in range(len(data)):\n",
    "        visitor_useragent.append(data[i]['visitor_useragent'])\n",
    "    \n",
    "    # Get the browser from the user agent\n",
    "    browser = []\n",
    "    for i in range(len(visitor_useragent)):\n",
    "        # Simplifying browser and extracting the browser name\n",
    "        if 'Chrome' in visitor_useragent[i]:\n",
    "            browser.append('Chrome')\n",
    "        elif 'Firefox' in visitor_useragent[i]:\n",
    "            browser.append('Firefox')\n",
    "        elif 'Safari' in visitor_useragent[i] and 'Chrome' not in visitor_useragent[i]:\n",
    "            browser.append('Safari')\n",
    "        elif 'Opera' in visitor_useragent[i]:\n",
    "            browser.append('Opera')\n",
    "        elif 'Internet Explorer' in visitor_useragent[i] or 'MSIE' in visitor_useragent[i] or 'Trident' in visitor_useragent[i]:\n",
    "            browser.append('Internet Explorer')\n",
    "        elif 'iPhone' in visitor_useragent[i] or 'iPad' in visitor_useragent[i] or 'iPod' in visitor_useragent[i]:\n",
    "            browser.append('Safari (iOS Device)')\n",
    "        else:\n",
    "            browser.append('Other')\n",
    "     \n",
    "    # Return the browser\n",
    "    return browser\n",
    "\n",
    "# Get browser counts\n",
    "browser_counts = Counter(get_browser())\n",
    "\n",
    "sorted_browser_counts = sorted(browser_counts.items(), key=lambda x: x[1], reverse=True)\n",
    "browsers, counts = zip(*sorted_browser_counts)\n",
    "print(browsers)\n",
    "print(counts)\n",
    "\n",
    "create_histogram(browsers, counts, 'Browser Histogram', 'Browser')"
   ]
  }
 ],
 "metadata": {
  "kernelspec": {
   "display_name": "Python 3",
   "language": "python",
   "name": "python3"
  },
  "language_info": {
   "codemirror_mode": {
    "name": "ipython",
    "version": 3
   },
   "file_extension": ".py",
   "mimetype": "text/x-python",
   "name": "python",
   "nbconvert_exporter": "python",
   "pygments_lexer": "ipython3",
   "version": "3.9.7"
  }
 },
 "nbformat": 4,
 "nbformat_minor": 2
}
